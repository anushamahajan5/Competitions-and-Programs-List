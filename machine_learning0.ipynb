{
  "nbformat": 4,
  "nbformat_minor": 0,
  "metadata": {
    "colab": {
      "provenance": [],
      "collapsed_sections": [],
      "toc_visible": true,
      "authorship_tag": "ABX9TyPoJOWC3Omvo/09km9h9PKB",
      "include_colab_link": true
    },
    "kernelspec": {
      "name": "python3",
      "display_name": "Python 3"
    },
    "language_info": {
      "name": "python"
    }
  },
  "cells": [
    {
      "cell_type": "markdown",
      "metadata": {
        "id": "view-in-github",
        "colab_type": "text"
      },
      "source": [
        "<a href=\"https://colab.research.google.com/github/anushamahajan5/Competitions-and-Programs-List/blob/main/machine_learning0.ipynb\" target=\"_parent\"><img src=\"https://colab.research.google.com/assets/colab-badge.svg\" alt=\"Open In Colab\"/></a>"
      ]
    },
    {
      "cell_type": "code",
      "execution_count": 5,
      "metadata": {
        "colab": {
          "base_uri": "https://localhost:8080/"
        },
        "id": "xmStcKSq3X1H",
        "outputId": "ac288c6f-61eb-4a37-9013-8185c4393324"
      },
      "outputs": [
        {
          "output_type": "stream",
          "name": "stdout",
          "text": [
            "<__main__.employee object at 0x7f78f5a44450>\n",
            "<__main__.employee object at 0x7f78f59d8590>\n",
            "anusha\n"
          ]
        }
      ],
      "source": [
        "class employee:\n",
        "  pass\n",
        "emp1=employee()\n",
        "emp2=employee()\n",
        "print(emp1)\n",
        "print(emp2)\n",
        "emp1.first=\"anusha\"\n",
        "emp1.last=\"mahajan\"\n",
        "print(emp1.first)\n"
      ]
    },
    {
      "cell_type": "code",
      "source": [
        "class employe:\n",
        "  raise_amount = 1.04\n",
        "  def __init__(self,first,last,pay):\n",
        "    self.first=first\n",
        "    self.last=last\n",
        "    self.pay=pay\n",
        "    self.email= first+last+'@gmail.com'\n",
        "  def fullname(self):\n",
        "    return '{} {}'.format(self.first ,self.last)\n",
        "  def applyraise(self):\n",
        "    self.pay=int(self.pay*self.raise_amount)\n",
        "emp1=employe('anusha','mahajan',80000)\n",
        "emp2=employe('suhani','oberoi',90000)\n",
        "print('{} {}'.format(emp1.first ,emp1.last))\n",
        "print('name of employe2: {}'.format(emp1.fullname()))\n",
        "print('name of employe2: {}'.format(emp1.fullname))\n",
        "print(emp2.email)\n",
        "print(emp1.pay)\n",
        "emp1.applyraise()\n",
        "print(emp1.pay)\n",
        "print(employe.raise_amount)\n",
        "print(emp1.raise_amount)\n",
        "#here emp1 doesn't have raise amount as an attribute but it is accesing it from class employee\n",
        "#to check attributes of emp1 we print a dictionary\n",
        "print(emp1.__dict__)\n",
        "print(employe.__dict__)"
      ],
      "metadata": {
        "colab": {
          "base_uri": "https://localhost:8080/"
        },
        "id": "1PsNRh7x5pc-",
        "outputId": "1e45137f-b942-4a42-f470-a181a8389265"
      },
      "execution_count": 22,
      "outputs": [
        {
          "output_type": "stream",
          "name": "stdout",
          "text": [
            "anusha mahajan\n",
            "name of employe2: anusha mahajan\n",
            "name of employe2: <bound method employe.fullname of <__main__.employe object at 0x7f78f596f5d0>>\n",
            "suhanioberoi@gmail.com\n",
            "80000\n",
            "83200\n",
            "1.04\n",
            "1.04\n",
            "{'first': 'anusha', 'last': 'mahajan', 'pay': 83200, 'email': 'anushamahajan@gmail.com'}\n",
            "{'__module__': '__main__', 'raise_amount': 1.04, '__init__': <function employe.__init__ at 0x7f78f59cb710>, 'fullname': <function employe.fullname at 0x7f78f59cb290>, 'applyraise': <function employe.applyraise at 0x7f78f59cbcb0>, '__dict__': <attribute '__dict__' of 'employe' objects>, '__weakref__': <attribute '__weakref__' of 'employe' objects>, '__doc__': None}\n"
          ]
        }
      ]
    },
    {
      "cell_type": "code",
      "source": [
        "class employe:\n",
        "  raise_amount = 1.04\n",
        "  def __init__(self,first,last,pay):\n",
        "    self.first=first\n",
        "    self.last=last\n",
        "    self.pay=pay\n",
        "    self.email= first+last+'@gmail.com'\n",
        "  def fullname(self):\n",
        "    return '{} {}'.format(self.first ,self.last)\n",
        "  def applyraise(self):\n",
        "    self.pay=int(self.pay*self.raise_amount)\n",
        "  @classmethod\n",
        "  #this method helps to change value of raise_amount so even if we try this method on instance value i.e emp1 or on employe, the value will change for whole\n",
        "\n",
        "  def set_raise_amt(cls,amount):\n",
        "    cls.raise_amt=amount\n",
        "  @classmethod\n",
        "  def form_string(clas,emp_str):\n",
        "    first,last,pay=emp_str.split('-')\n",
        "    return clas(first,last,pay)\n",
        "emp1=employe('anusha','mahajan',80000)\n",
        "emp2=employe('suhani','oberoi',90000)\n",
        "emp_str1='anusha-mahajan-80000'\n",
        "emp_str2='raj-kapoor-5000'\n",
        "employe.set_raise_amt(1.05)\n",
        "print(employe.raise_amt)\n",
        "#print(empl.raise_amount())\n",
        "new_emp1=employe.form_string(emp_str1)\n",
        "print(new_emp1.email)\n",
        "print(new_emp1.pay)"
      ],
      "metadata": {
        "colab": {
          "base_uri": "https://localhost:8080/"
        },
        "id": "1427936gJ4OK",
        "outputId": "1d26b3f3-5c2b-40b3-d355-511545962f36"
      },
      "execution_count": 32,
      "outputs": [
        {
          "output_type": "stream",
          "name": "stdout",
          "text": [
            "1.05\n",
            "anushamahajan@gmail.com\n",
            "80000\n"
          ]
        }
      ]
    }
  ]
}